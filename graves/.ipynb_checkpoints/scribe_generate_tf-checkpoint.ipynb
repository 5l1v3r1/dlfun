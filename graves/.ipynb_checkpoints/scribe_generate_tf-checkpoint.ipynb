{
 "cells": [
  {
   "cell_type": "code",
   "execution_count": 1,
   "metadata": {
    "collapsed": false
   },
   "outputs": [],
   "source": [
    "import numpy as np\n",
    "import numpy.matlib\n",
    "import matplotlib.pyplot as plt\n",
    "%matplotlib inline\n",
    "import math\n",
    "import random\n",
    "import time\n",
    "import os\n",
    "\n",
    "import tensorflow as tf"
   ]
  },
  {
   "cell_type": "markdown",
   "metadata": {},
   "source": [
    "## Build deep recurrent model with MDN densecap"
   ]
  },
  {
   "cell_type": "code",
   "execution_count": 2,
   "metadata": {
    "collapsed": true
   },
   "outputs": [],
   "source": [
    "#general model params\n",
    "hidden = 128\n",
    "tsteps = 1\n",
    "nmixtures = 20\n",
    "nlayers = 2 #currently does nothing\n",
    "\n",
    "# window params\n",
    "kmixtures = 10\n",
    "alphabet = 2\n",
    "U_items = 3\n",
    "\n",
    "#training params\n",
    "generate = False\n",
    "batch_size = 1\n",
    "dropout_keep = 0.85\n",
    "num_epochs = 30\n",
    "\n",
    "grad_clip = 10.\n",
    "learning_rate = .008 #0.005\n",
    "decay_rate = .9\n",
    "save_every =100\n",
    "\n",
    "#data params\n",
    "data_scale=10"
   ]
  },
  {
   "cell_type": "code",
   "execution_count": 3,
   "metadata": {
    "collapsed": false
   },
   "outputs": [
    {
     "name": "stderr",
     "output_type": "stream",
     "text": [
      "WARNING:tensorflow:<tensorflow.python.ops.rnn_cell.BasicLSTMCell object at 0x10f7eb090>: Using a concatenated state is slower and will soon be deprecated.  Use state_is_tuple=True.\n",
      "WARNING:tensorflow:<tensorflow.python.ops.rnn_cell.BasicLSTMCell object at 0x10f7eb090>: Using a concatenated state is slower and will soon be deprecated.  Use state_is_tuple=True.\n",
      "WARNING:tensorflow:<tensorflow.python.ops.rnn_cell.BasicLSTMCell object at 0x10f7eb0d0>: Using a concatenated state is slower and will soon be deprecated.  Use state_is_tuple=True.\n",
      "WARNING:tensorflow:<tensorflow.python.ops.rnn_cell.BasicLSTMCell object at 0x10f7eb0d0>: Using a concatenated state is slower and will soon be deprecated.  Use state_is_tuple=True.\n"
     ]
    }
   ],
   "source": [
    "cell0 = tf.nn.rnn_cell.BasicLSTMCell(hidden)\n",
    "cell1 = tf.nn.rnn_cell.BasicLSTMCell(hidden)\n",
    "\n",
    "if (generate == False and dropout_keep < 1): # training mode\n",
    "    cell0 = tf.nn.rnn_cell.DropoutWrapper(cell0, output_keep_prob = dropout_keep)\n",
    "    cell1 = tf.nn.rnn_cell.DropoutWrapper(cell1, output_keep_prob = dropout_keep)\n",
    "\n",
    "input_data = tf.placeholder(dtype=tf.float32, shape=[None, tsteps, 3])\n",
    "target_data = tf.placeholder(dtype=tf.float32, shape=[None, tsteps, 3])\n",
    "zstate_cell0 = cell0.zero_state(batch_size=batch_size, dtype=tf.float32)\n",
    "zstate_cell1 = cell1.zero_state(batch_size=batch_size, dtype=tf.float32)\n",
    "\n",
    "#slice the input volume into separate vols for each tstep\n",
    "inputs = [tf.squeeze(input_, [1]) for input_ in tf.split(1, tsteps, input_data)]\n",
    "\n",
    "#build cell0 computational graph\n",
    "outs_cell0, pstate_cell0 = tf.nn.seq2seq.rnn_decoder(inputs, zstate_cell0, cell0, loop_function=None, scope='cell0')\n",
    "# out_cell0 = tf.reshape(tf.concat(1, outs_cell0), [-1, hidden]) #concat outputs"
   ]
  },
  {
   "cell_type": "code",
   "execution_count": 4,
   "metadata": {
    "collapsed": false
   },
   "outputs": [],
   "source": [
    "def get_window(alpha, beta, kappa, c):\n",
    "    # phi -> [? x 1 x U_items] and is a tf matrix\n",
    "    # c -> [? x U_items x alphabet] and is a tf matrix\n",
    "    U_items = c.get_shape()[1].value #number of items in sequence\n",
    "    phi = get_phi(U_items, alpha, beta, kappa)\n",
    "    window = tf.batch_matmul(phi,c)\n",
    "    window = tf.squeeze(window, [1]) # window ~ [?,alphabet]\n",
    "    return window, phi\n",
    "    \n",
    "#get phi for all t,u (returns a [1 x tsteps] matrix) that defines the window\n",
    "def get_phi(U_items, alpha, beta, kappa):\n",
    "    # alpha, beta, kappa -> [?,kmixtures,1] and each is a tf variable\n",
    "    u = np.linspace(0,U_items-1,U_items) # weight all the U items in the sequence\n",
    "    kappa_term = tf.square( tf.sub(kappa,u))\n",
    "    exp_term = tf.mul(-beta,kappa_term)\n",
    "    phi_k = tf.mul(alpha, tf.exp(exp_term))\n",
    "    phi = tf.reduce_sum(phi_k,1, keep_dims=True)\n",
    "    return phi # phi ~ [?,1,U_items]\n",
    "    \n",
    "def get_window_params(i, out_cell0, kmixtures, prev_kappa, reuse=True):\n",
    "    hidden = out_cell0.get_shape()[1]\n",
    "    n_out = 3*kmixtures\n",
    "    with tf.variable_scope('window',reuse=reuse):\n",
    "        tnormal = tf.truncated_normal_initializer(mean=-0.5, stddev=.25, seed=None, dtype=tf.float32)\n",
    "        window_w = tf.get_variable(\"window_w\", [hidden, n_out], initializer=tnormal)\n",
    "#         variable_summaries(window_w, 'window_w_' + str(i) + '/weights')\n",
    "        window_b = tf.get_variable(\"window_b\", [n_out])\n",
    "    abk_hats = tf.nn.xw_plus_b(out_cell0, window_w, window_b) # abk_hats ~ [?,n_out]\n",
    "    abk = tf.exp(tf.reshape(abk_hats, [-1, 3*kmixtures,1]))\n",
    "    \n",
    "    alpha, beta, kappa = tf.split(1, 3, abk) # alpha_hat, etc ~ [?,kmixtures]\n",
    "    kappa = kappa/10 + prev_kappa\n",
    "    return alpha, beta, kappa # each ~ [?,kmixtures,1]\n",
    "\n",
    "init_kappa = tf.placeholder(dtype=tf.float32, shape=[None, kmixtures, 1])\n",
    "char_seq = tf.placeholder(dtype=tf.float32, shape=[None, U_items, alphabet])\n",
    "prev_kappa = init_kappa\n",
    "prev_window = char_seq[:,0,:]"
   ]
  },
  {
   "cell_type": "code",
   "execution_count": 5,
   "metadata": {
    "collapsed": false
   },
   "outputs": [],
   "source": [
    "#add gaussian window result\n",
    "reuse = False\n",
    "for i in range(len(outs_cell0)):\n",
    "    [alpha, beta, new_kappa] = get_window_params(i, outs_cell0[i], kmixtures, prev_kappa, reuse=reuse)\n",
    "    window, phi = get_window(alpha, beta, new_kappa, char_seq)\n",
    "    outs_cell0[i] = tf.concat(1, (outs_cell0[i],window)) #concat outputs\n",
    "    outs_cell0[i] = tf.concat(1, (outs_cell0[i],inputs[i])) #concat input data\n",
    "    outs_cell0[i] = tf.concat(1, (outs_cell0[i],prev_window)) #concat input data\n",
    "    prev_kappa = new_kappa\n",
    "    prev_window = window\n",
    "    reuse = True"
   ]
  },
  {
   "cell_type": "code",
   "execution_count": 6,
   "metadata": {
    "collapsed": false
   },
   "outputs": [],
   "source": [
    "n_out = 1 + nmixtures * 6 # end_of_stroke + gaussian mixtures defining stroke locations\n",
    "\n",
    "#build cell1 computational graph\n",
    "outs_cell1, pstate_cell1 = tf.nn.seq2seq.rnn_decoder(outs_cell0, zstate_cell1, cell1, loop_function=None, scope='cell1')\n",
    "out_cell1 = tf.reshape(tf.concat(1, outs_cell1), [-1, hidden]) #concat outputs\n",
    "\n",
    "#put a dense cap on top of the rnn cells (to interface with the mixture density network)\n",
    "with tf.variable_scope('rnn_root'):\n",
    "    output_w = tf.get_variable(\"output_w\", [hidden, n_out])\n",
    "    output_b = tf.get_variable(\"output_b\", [n_out])\n",
    "\n",
    "#put dense cap on top of cell1\n",
    "output = tf.nn.xw_plus_b(out_cell1, output_w, output_b) #data flows through dense nn"
   ]
  },
  {
   "cell_type": "markdown",
   "metadata": {},
   "source": [
    "A 2D gaussian looks like\n",
    "$\\mathcal{N}(x|\\mu,\\sigma,\\rho)=\\frac{1}{2\\pi\\sigma_1\\sigma_2\\sqrt(1-\\rho^2)}exp\\left[\\frac{-Z}{2(1-\\rho^2)}\\right]$ where $Z=\\frac{(x_1-\\mu_1)^2}{\\sigma_1^2}+\\frac{(x_2-\\mu_2)^2}{\\sigma_2^2}-\\frac{2\\rho(x_1-\\mu_1)(x_2-\\mu_2)}{\\sigma_1\\sigma_2}$"
   ]
  },
  {
   "cell_type": "code",
   "execution_count": 7,
   "metadata": {
    "collapsed": true
   },
   "outputs": [],
   "source": [
    "def gaussian2d(x1, x2, mu1, mu2, s1, s2, rho):\n",
    "    # define gaussian mdn (eq 24, 25 from http://arxiv.org/abs/1308.0850)\n",
    "    x_mu1 = tf.sub(x1, mu1)\n",
    "    x_mu2 = tf.sub(x2, mu2)\n",
    "    Z = tf.square(tf.div(x_mu1, s1)) + \\\n",
    "        tf.square(tf.div(x_mu2, s2)) - \\\n",
    "        2*tf.div(tf.mul(rho, tf.mul(x_mu1, x_mu2)), tf.mul(s1, s2))\n",
    "    rho_square_term = 1-tf.square(rho)\n",
    "    power_e = tf.exp(tf.div(-Z,2*rho_square_term))\n",
    "    regularize_term = 2*np.pi*tf.mul(tf.mul(s1, s2), tf.sqrt(rho_square_term))\n",
    "    gaussian = tf.div(power_e, regularize_term)\n",
    "    return gaussian"
   ]
  },
  {
   "cell_type": "markdown",
   "metadata": {},
   "source": [
    "Given the mdn cap, our loss function becomes \n",
    "$$ \\mathcal{L}(x)=\\sum_{t=1}^{T} -log\\left(\\sum_{j} \\pi_t^j\\mathcal{N}(x_{t+1}|\\mu_t^j,\\sigma_t^j,\\rho_t^j)\n",
    "\\right)\n",
    "-\\left\\{\n",
    "        \\begin{array}{ll}\n",
    "            \\log e_t & (x_{t+1})_3=1\\\\\n",
    "            \\log(1-e_t) & \\quad \\mathrm{otherwise}\n",
    "        \\end{array}\n",
    "    \\right.\n",
    "$$"
   ]
  },
  {
   "cell_type": "code",
   "execution_count": 8,
   "metadata": {
    "collapsed": true
   },
   "outputs": [],
   "source": [
    "def get_loss(pi, x1_data, x2_data, eos_data, mu1, mu2, sigma1, sigma2, rho, eos):\n",
    "    # define loss function (eq 26 of http://arxiv.org/abs/1308.0850)\n",
    "    gaussian = gaussian2d(x1_data, x2_data, mu1, mu2, sigma1, sigma2, rho)\n",
    "    term1 = tf.mul(gaussian, pi)\n",
    "    term1 = tf.reduce_sum(term1, 1, keep_dims=True) #do inner summation\n",
    "    term1 = -tf.log(tf.maximum(term1, 1e-20)) # some errors are zero -> numerical errors.\n",
    "\n",
    "    term2 = tf.mul(eos, eos_data) + tf.mul(1-eos, 1-eos_data) #modified Bernoulli -> eos probability\n",
    "    term2 = -tf.log(term2) #negative log error gives loss\n",
    "    \n",
    "    return tf.reduce_sum(term1 + term2) #do outer summation"
   ]
  },
  {
   "cell_type": "markdown",
   "metadata": {},
   "source": [
    "The gaussian mixture density network parameters are \n",
    "\n",
    "$$e_t=\\frac{1}{1+\\exp(\\hat e_t)} \\quad \\quad \\pi_t^j=\\frac{\\exp(\\hat \\pi_t^j)}{\\sum_{j'=1}^M\\exp(\\hat \\pi_t^{j'})} \\quad \\quad \\mu_t^j=\\hat \\mu_t^j \\quad \\quad \\sigma_t^j=\\exp(\\hat \\sigma_t^j)  \\quad \\quad  \\rho_t^j=\\tanh(\\hat \\rho_t^j)$$"
   ]
  },
  {
   "cell_type": "code",
   "execution_count": 9,
   "metadata": {
    "collapsed": true
   },
   "outputs": [],
   "source": [
    "# below is where we need to do MDN splitting of distribution params\n",
    "def get_mixture_coef(z):\n",
    "    # returns the tf slices containing mdn dist params (eq 18...23 of http://arxiv.org/abs/1308.0850)\n",
    "    z_eos = z[:, 0:1] #end of sentence tokens\n",
    "    z_pi, z_mu1, z_mu2, z_s1, z_s2, z_rho = tf.split(1, 6, z[:, 1:])\n",
    "    \n",
    "    # end of stroke signal\n",
    "    eos = tf.sigmoid(-1*z_eos) # technically we gained a negative sign\n",
    "\n",
    "    # softmax z_pi:\n",
    "    max_pi = tf.reduce_max(z_pi, 1, keep_dims=True)\n",
    "    z_pi = tf.exp( tf.sub(z_pi, max_pi) )\n",
    "    normalize_term = tf.inv(tf.reduce_sum(z_pi, 1, keep_dims=True))\n",
    "    pi = tf.mul(normalize_term, z_pi)\n",
    "    \n",
    "    #leave mu1, mu2 as they are\n",
    "    mu1 = z_mu1; mu2 = z_mu2\n",
    "    \n",
    "    # exp for sigmas\n",
    "    sigma1 = tf.exp(z_s1); sigma2 = tf.exp(z_s2)\n",
    "    \n",
    "    #tanh for rho (goes between -1 and 1)\n",
    "    rho = tf.tanh(z_rho)\n",
    "\n",
    "    return [eos, pi, mu1, mu2, sigma1, sigma2, rho]"
   ]
  },
  {
   "cell_type": "code",
   "execution_count": 10,
   "metadata": {
    "collapsed": false
   },
   "outputs": [],
   "source": [
    "# reshape target data (as we did the input data)\n",
    "flat_target_data = tf.reshape(target_data,[-1, 3])\n",
    "[x1_data, x2_data, eos_data] = tf.split(1, 3, flat_target_data) #we might as well split these now\n",
    "\n",
    "[eos, pi, mu1, mu2, sigma1, sigma2, rho] = get_mixture_coef(output)\n",
    "\n",
    "loss = get_loss(pi, x1_data, x2_data, eos_data, mu1, mu2, sigma1, sigma2, rho, eos)\n",
    "cost = loss / (batch_size * tsteps)"
   ]
  },
  {
   "cell_type": "code",
   "execution_count": 11,
   "metadata": {
    "collapsed": false
   },
   "outputs": [],
   "source": [
    "#save model params\n",
    "params = {}\n",
    "params['pi'] = pi\n",
    "params['eos'] = eos\n",
    "params['mu1'] = mu1\n",
    "params['mu2'] = mu2\n",
    "params['sigma1'] = sigma1\n",
    "params['sigma2'] = sigma2\n",
    "params['rho'] = rho\n",
    "params['cell0'] = cell0\n",
    "params['cell1'] = cell1\n",
    "params['input_data'] = input_data\n",
    "params['zstate_cell0'] = zstate_cell0\n",
    "params['pstate_cell0'] = pstate_cell0\n",
    "params['zstate_cell1'] = zstate_cell1\n",
    "params['pstate_cell1'] = pstate_cell1\n",
    "params['char_seq'] = char_seq\n",
    "params['U_items'] = U_items\n",
    "params['alphabet'] = alphabet\n",
    "params['data_scale'] = data_scale\n",
    "params['window'] = window\n",
    "params['init_kappa'] = init_kappa\n",
    "params['new_kappa'] = new_kappa\n",
    "params['alpha'] = alpha\n",
    "params['beta'] = beta\n",
    "params['phi'] = phi\n",
    "params['kmixtures'] = kmixtures"
   ]
  },
  {
   "cell_type": "markdown",
   "metadata": {},
   "source": [
    "## Load saved model (build graph, then start session)"
   ]
  },
  {
   "cell_type": "code",
   "execution_count": 12,
   "metadata": {
    "collapsed": false
   },
   "outputs": [],
   "source": [
    "#define how to train the model\n",
    "lr = tf.Variable(0.0, trainable=False)\n",
    "tvars = tf.trainable_variables()\n",
    "grads, _ = tf.clip_by_global_norm(tf.gradients(cost, tvars), grad_clip)\n",
    "optimizer = tf.train.AdamOptimizer(lr) #AdamOptimizer(lr) #\n",
    "train_op = optimizer.apply_gradients(zip(grads, tvars))"
   ]
  },
  {
   "cell_type": "code",
   "execution_count": 13,
   "metadata": {
    "collapsed": false
   },
   "outputs": [
    {
     "name": "stdout",
     "output_type": "stream",
     "text": [
      "loading model:  saved/model.ckpt-2500\n"
     ]
    }
   ],
   "source": [
    "checkpoint_path = os.path.join('saved', 'model.ckpt')\n",
    "sess = tf.InteractiveSession()\n",
    "saver = tf.train.Saver(tf.all_variables())\n",
    "\n",
    "ckpt = tf.train.get_checkpoint_state('saved')\n",
    "print \"loading model: \",ckpt.model_checkpoint_path\n",
    "saver.restore(sess, ckpt.model_checkpoint_path)"
   ]
  },
  {
   "cell_type": "markdown",
   "metadata": {},
   "source": [
    "## Make predictions with model"
   ]
  },
  {
   "cell_type": "code",
   "execution_count": 14,
   "metadata": {
    "collapsed": false
   },
   "outputs": [],
   "source": [
    "def sample(sess, one_hot, params, num=1200):\n",
    "\n",
    "    def get_pi_idx(x, pdf):\n",
    "        N = pdf.size\n",
    "        accumulate = 0\n",
    "        for i in range(0, N):\n",
    "            accumulate += pdf[i]\n",
    "            if (accumulate >= x):\n",
    "                return i\n",
    "        print 'error with sampling ensemble'\n",
    "        return -1\n",
    "\n",
    "    def sample_gaussian_2d(mu1, mu2, s1, s2, rho):\n",
    "        mean = [mu1, mu2]\n",
    "        cov = [[s1*s1, rho*s1*s2], [rho*s1*s2, s2*s2]]\n",
    "        x = np.random.multivariate_normal(mean, cov, 1)\n",
    "        return x[0][0], x[0][1]\n",
    "    \n",
    "    prev_x = np.zeros((1, 1, 3), dtype=np.float32)\n",
    "    prev_x[0, 0, 2] = 1 # initially, we want to see beginning of new stroke\n",
    "    state0 = sess.run(params['cell0'].zero_state(1, tf.float32))\n",
    "    state1 = sess.run(params['cell1'].zero_state(1, tf.float32))\n",
    "    kappa = np.zeros((1, params['kmixtures'], 1))\n",
    "\n",
    "    strokes = np.zeros((num, 3), dtype=np.float32)\n",
    "    windows = np.zeros((0,params['alphabet']))\n",
    "    phis = np.zeros((0,params['U_items'])) #[? x 1 x U_items]\n",
    "    alphas = np.zeros((params['kmixtures'],1), dtype=np.float32)\n",
    "    betas = np.zeros((params['kmixtures'],1), dtype=np.float32)\n",
    "    kappas = np.zeros((params['kmixtures'],1), dtype=np.float32)\n",
    "\n",
    "    for i in xrange(num):\n",
    "        feed = {params['input_data']: prev_x, params['zstate_cell0']:state0, params['zstate_cell1']:state1, \\\n",
    "               params['char_seq']:one_hot, params['init_kappa']:kappa}\n",
    "        fetch = [ params['pi'], params['mu1'], params['mu2'], params['sigma1'], params['sigma2'], \\\n",
    "                 params['rho'], params['eos'], params['pstate_cell0'], params['pstate_cell1'], \\\n",
    "                 params['window'], params['phi'], params['new_kappa'], params['alpha'], params['beta'] ]\n",
    "        [o_pi, o_mu1, o_mu2, o_sigma1, o_sigma2, o_corr, \\\n",
    "         o_eos, state0, state1, window, phi, kappa, alpha, beta] = sess.run(fetch,feed)\n",
    "        windows = np.concatenate((windows,window),axis=0)\n",
    "        phis = np.concatenate((phis,phi[0]),axis=0)\n",
    "        alphas = np.concatenate((alphas,alpha[0]),axis=1)\n",
    "        betas = np.concatenate((betas,beta[0]),axis=1)\n",
    "        kappas = np.concatenate((kappas,kappa[0]),axis=1)\n",
    "\n",
    "        idx = get_pi_idx(random.random(), o_pi[0])\n",
    "        eos = 1 if random.random() < o_eos[0][0] else 0\n",
    "        next_x1, next_x2 = sample_gaussian_2d(o_mu1[0][idx], o_mu2[0][idx], o_sigma1[0][idx], o_sigma2[0][idx], o_corr[0][idx])\n",
    "\n",
    "        strokes[i,:] = [o_mu1[0][idx], o_mu2[0][idx], eos]\n",
    "#         strokes[i,:] = [next_x1, next_x2, eos]\n",
    "\n",
    "        prev_x = np.zeros((1, 1, 3), dtype=np.float32)\n",
    "        prev_x[0][0] = np.array([next_x1, next_x2, eos], dtype=np.float32)\n",
    "#         one_hot[:,0,:] = one_hot[:,i/10,:]\n",
    "\n",
    "    strokes[:,0:2] *= params['data_scale']\n",
    "    return strokes, windows, phis, kappas, alphas, betas"
   ]
  },
  {
   "cell_type": "code",
   "execution_count": 15,
   "metadata": {
    "collapsed": true
   },
   "outputs": [],
   "source": [
    "def plot_result(strokes, phis, windows):\n",
    "    import matplotlib.cm as cm\n",
    "    plt.figure(figsize=(12,3))\n",
    "    plt.figure(1)\n",
    "    plt.subplot(131)\n",
    "    plt.title('Generated')\n",
    "    plt.plot(strokes[:,0], strokes[:,1],'r-')\n",
    "    plt.plot(strokes[:,0], strokes[:,1],'r-')\n",
    "    plt.subplot(132)\n",
    "    plt.title('Phis')\n",
    "    plt.imshow(phis, interpolation='nearest', aspect='auto', cmap=cm.gray)\n",
    "    plt.subplot(133)\n",
    "    plt.title('Windows')\n",
    "    plt.imshow(windows, interpolation='nearest', aspect='auto', cmap=cm.gray)\n",
    "    plt.show()\n",
    "    \n",
    "def line_plot(strokes):\n",
    "    plt.figure(figsize=(4,2))\n",
    "    eos_preds = np.where(strokes[:,-1] == 1)\n",
    "    eos_preds = [0] + list(eos_preds[0]) + [-1] #add start and end indices\n",
    "    for i in range(len(eos_preds)-1):\n",
    "        start = eos_preds[i]+1\n",
    "        stop = eos_preds[i+1]\n",
    "        plt.plot(strokes[start:stop,0], strokes[start:stop,1],'r-')\n",
    "    plt.title('Sample train data')\n",
    "    plt.gca().invert_yaxis()\n",
    "    plt.show()"
   ]
  },
  {
   "cell_type": "code",
   "execution_count": 16,
   "metadata": {
    "collapsed": false
   },
   "outputs": [
    {
     "name": "stdout",
     "output_type": "stream",
     "text": [
      "loading model:  saved/model.ckpt-2500\n",
      "[[[ 1.  0.]\n",
      "  [ 1.  0.]\n",
      "  [ 1.  0.]]]\n"
     ]
    },
    {
     "data": {
      "image/png": "[encoded data removed]",
      "text/plain": [
       "<matplotlib.figure.Figure at 0x110139f10>"
      ]
     },
     "metadata": {},
     "output_type": "display_data"
    },
    {
     "name": "stdout",
     "output_type": "stream",
     "text": [
      "0 14\n",
      "15 32\n",
      "33 49\n",
      "50 -1\n"
     ]
    },
    {
     "data": {
      "image/png": "[encoded data removed]",
      "text/plain": [
       "<matplotlib.figure.Figure at 0x104118890>"
      ]
     },
     "metadata": {},
     "output_type": "display_data"
    },
    {
     "name": "stdout",
     "output_type": "stream",
     "text": [
      "kappas:\n",
      "[ 2.76924562  3.0066967   5.88844347  2.78399515  0.18594396  0.9220314\n",
      "  5.19375372  0.46894446  0.21481915  0.01235901]\n"
     ]
    }
   ],
   "source": [
    "#np.random.randint(0,1, (U_items))\n",
    "seq = [1,1,1]\n",
    "seq = [0,0,0]\n",
    "one_hot = np.zeros((1,U_items,alphabet))\n",
    "one_hot[0,np.arange(U_items),seq] = 1\n",
    "\n",
    "ckpt = tf.train.get_checkpoint_state('saved')\n",
    "print \"loading model: \",ckpt.model_checkpoint_path\n",
    "saver.restore(sess, ckpt.model_checkpoint_path)\n",
    "strokes, windows, phis, kappas, alphas, betas = sample(sess, one_hot.copy(), params, num=51)\n",
    "\n",
    "\n",
    "print one_hot\n",
    "strokes[:,:-1] = np.cumsum(strokes[:,:-1], axis=0)\n",
    "# print strokes\n",
    "plot_result(strokes, phis, windows)\n",
    "line_plot(strokes)\n",
    "print \"kappas:\\n\", kappas.T[1,:]"
   ]
  },
  {
   "cell_type": "code",
   "execution_count": null,
   "metadata": {
    "collapsed": true
   },
   "outputs": [],
   "source": []
  },
  {
   "cell_type": "code",
   "execution_count": null,
   "metadata": {
    "collapsed": true
   },
   "outputs": [],
   "source": []
  }
 ],
 "metadata": {
  "kernelspec": {
   "display_name": "Python 2",
   "language": "python",
   "name": "python2"
  },
  "language_info": {
   "codemirror_mode": {
    "name": "ipython",
    "version": 2
   },
   "file_extension": ".py",
   "mimetype": "text/x-python",
   "name": "python",
   "nbconvert_exporter": "python",
   "pygments_lexer": "ipython2",
   "version": "2.7.10"
  }
 },
 "nbformat": 4,
 "nbformat_minor": 0
}
