{
 "cells": [
  {
   "cell_type": "markdown",
   "metadata": {},
   "source": [
    "# Mixture Density Networks in TensorFlow\n",
    "An implementation of MDNs adapted from Andrej Karpathy's [example](https://github.com/karpathy/randomfun). My version is powered by [TensorFlow](https://www.tensorflow.org/versions/master/get_started/index.html)\n",
    "\n",
    "Mixture Density Networks are just like vanilla neural networks but they return estimates of uncertainty on their predictions. Karpathy writes:\n",
    "\n",
    "\"The core idea is to have a Neural Net that predicts an entire (and possibly complex)\n",
    "distribution. In this example we're predicting a mixture of gaussians distributions via\n",
    "its sufficient statistics (the means and diagonal covariances), which are on the last\n",
    "layer of the neural network. This means that the network knows what it doesn't know:\n",
    "it will predict diffuse distributions in situations where the target variable is very\n",
    "noisy, and it will predict a much more peaky distribution in nearly deterministic parts.\"\n",
    "\n",
    "Karpathy took his version from Bishop's Machine Learning textbook (1994)"
   ]
  },
  {
   "cell_type": "code",
   "execution_count": 11,
   "metadata": {
    "collapsed": false
   },
   "outputs": [
    {
     "name": "stderr",
     "output_type": "stream",
     "text": [
      "Exception AssertionError: AssertionError() in <bound method InteractiveSession.__del__ of <tensorflow.python.client.session.InteractiveSession object at 0x10bc8e210>> ignored\n"
     ]
    }
   ],
   "source": [
    "import tensorflow as tf\n",
    "import numpy as np\n",
    "import matplotlib.pyplot as plt\n",
    "import math\n",
    "%matplotlib inline\n",
    "\n",
    "sess = tf.InteractiveSession()"
   ]
  },
  {
   "cell_type": "code",
   "execution_count": 12,
   "metadata": {
    "collapsed": false
   },
   "outputs": [],
   "source": [
    "#the function we'll be trying to predict\n",
    "N = 200\n",
    "X = np.linspace(0,1,N)\n",
    "Y = X + 0.3 * np.sin(2*3.1415926*X) + np.random.uniform(-0.1, 0.1, N)\n",
    "X,Y = Y,X\n",
    "# plt.scatter(X,Y,color='g')"
   ]
  },
  {
   "cell_type": "code",
   "execution_count": 13,
   "metadata": {
    "collapsed": true
   },
   "outputs": [],
   "source": [
    "#hyperparameters\n",
    "input_size = 1 #size of input (x)\n",
    "output_size = 1\n",
    "hidden_size = 30 # size of hidden layer\n",
    "M = 3 #number of mixture components\n",
    "batch_size = 200"
   ]
  },
  {
   "cell_type": "markdown",
   "metadata": {},
   "source": [
    "## Initialize tensors for weights and biases\n",
    "I store them all in a dictionary so that they are easier to pass to functions"
   ]
  },
  {
   "cell_type": "code",
   "execution_count": 14,
   "metadata": {
    "collapsed": false
   },
   "outputs": [],
   "source": [
    "def weight_variable(shape):\n",
    "    initial = tf.truncated_normal(shape, stddev=0.25)\n",
    "    return tf.Variable(initial)\n",
    "\n",
    "def bias_variable(shape):\n",
    "    initial = tf.truncated_normal(shape, stddev=0.01)\n",
    "    return tf.Variable(initial)\n",
    "\n",
    "x = tf.placeholder(\"float\", shape=[None, input_size]) #[nb x 1]\n",
    "y = tf.placeholder(\"float\", shape=[None, output_size]) #[nb x 1]\n",
    "\n",
    "w = {}\n",
    "w['Wxh'] = weight_variable([input_size, hidden_size]) # [input x hidden]\n",
    "w['Whu'] = weight_variable([hidden_size, M]) #[hidden x M]\n",
    "w['Whs'] = weight_variable([hidden_size, M]) #[hidden x M]\n",
    "w['Whp'] = weight_variable([hidden_size, M]) #[hidden x M]\n",
    "\n",
    "w['bxh'] = bias_variable([1, hidden_size]) # [1 x hidden]\n",
    "w['bhu'] = bias_variable([1, M]) # [1 x M]\n",
    "w['bhs'] = bias_variable([1, M]) # [1 x M]\n",
    "w['bhp'] = bias_variable([1, M]) # [1 x M]"
   ]
  },
  {
   "cell_type": "markdown",
   "metadata": {},
   "source": [
    "## Build the computation graph\n",
    "All the variables are tensorflow types. (ps = probabilities, lp = log probabilities, loss = log loss)"
   ]
  },
  {
   "cell_type": "code",
   "execution_count": 15,
   "metadata": {
    "collapsed": true
   },
   "outputs": [],
   "source": [
    "h = tf.nn.tanh(tf.matmul(x, w['Wxh']) + w['bxh']) #[nb x hidden]\n",
    "mu = tf.matmul(h, w['Whu']) + w['bhu']  #[nb x M]\n",
    "sigma = tf.exp( tf.matmul(h, w['Whs']) + w['bhs'] )  #[nb x M]\n",
    "pi = tf.nn.softmax( tf.matmul(h, w['Whp']) + w['bhp'] )  #[nb x M]\n",
    "\n",
    "ps = tf.exp(-(tf.pow(y-mu,2))/(2*tf.pow(sigma,2)))/(sigma*np.sqrt(2*math.pi)) #[nb x M]\n",
    "pin = ps * pi\n",
    "lp = -tf.log(tf.reduce_sum(pin, 1, keep_dims=True)) #[nb x 1] (sum across dimension 1)\n",
    "loss = tf.reduce_sum(lp) / batch_size # scalar"
   ]
  },
  {
   "cell_type": "code",
   "execution_count": 16,
   "metadata": {
    "collapsed": false
   },
   "outputs": [],
   "source": [
    "#select training data (1 batch, all data)\n",
    "nb = N # full batch\n",
    "xbatch = np.reshape(X[:nb], (nb,1))\n",
    "ybatch = np.reshape(Y[:nb], (nb,1))"
   ]
  },
  {
   "cell_type": "markdown",
   "metadata": {},
   "source": [
    "## Optimize\n",
    "Use TensorFlow's built-in optimization methods. Training loss should hit about -1 after 20,000 steps"
   ]
  },
  {
   "cell_type": "code",
   "execution_count": 17,
   "metadata": {
    "collapsed": false
   },
   "outputs": [
    {
     "name": "stdout",
     "output_type": "stream",
     "text": [
      "step 0, training loss 0.97247\n",
      "step 1000, training loss -0.709157\n",
      "step 2000, training loss -0.802351\n",
      "step 3000, training loss -0.855826\n",
      "step 4000, training loss -0.896237\n",
      "step 5000, training loss -0.923585\n",
      "step 6000, training loss -0.941037\n",
      "step 7000, training loss -0.952521\n",
      "step 8000, training loss -0.960583\n",
      "step 9000, training loss -0.966559\n",
      "step 10000, training loss -0.971154\n",
      "step 11000, training loss -0.974751\n",
      "step 12000, training loss -0.977597\n",
      "step 13000, training loss -0.979862\n",
      "step 14000, training loss -0.981674\n",
      "step 15000, training loss -0.983125\n",
      "step 16000, training loss -0.984289\n",
      "step 17000, training loss -0.985222\n",
      "step 18000, training loss -0.985971\n",
      "step 19000, training loss -0.986574\n",
      "training loss -0.98706\n"
     ]
    }
   ],
   "source": [
    "train_step = tf.train.AdagradOptimizer(1e-2).minimize(loss)\n",
    "sess.run(tf.initialize_all_variables())\n",
    "\n",
    "for i in range(20000):\n",
    "    if i%1000 == 0:\n",
    "        train_loss = loss.eval(feed_dict={x:xbatch, y: ybatch})\n",
    "        print \"step %d, training loss %g\"%(i, train_loss)\n",
    "    train_step.run(feed_dict={x: xbatch, y: ybatch})\n",
    "\n",
    "print \"training loss %g\"%loss.eval(feed_dict={x:xbatch, y: ybatch})"
   ]
  },
  {
   "cell_type": "markdown",
   "metadata": {},
   "source": [
    "## Sample\n",
    "Sample from the mixture density network (in attempt to reproduce original function)"
   ]
  },
  {
   "cell_type": "code",
   "execution_count": 18,
   "metadata": {
    "collapsed": true
   },
   "outputs": [],
   "source": [
    "\n",
    "def sample(mus, sigmas, pis):\n",
    "    best = pis.argmax(axis = 1)  #[nb x 1]\n",
    "    print best.shape\n",
    "    \n",
    "    #select the best\n",
    "    indices = np.zeros_like(mus) #[nb x M]\n",
    "    indices[range(mus.shape[0]), best] = 1\n",
    "    \n",
    "    best_mus = np.sum( np.multiply(indices, mus), axis=1)\n",
    "    best_sigmas = np.sum( np.multiply(indices, sigmas), axis=1)\n",
    "    \n",
    "    Y_ = np.random.normal(best_mus, best_sigmas)\n",
    "    return Y_"
   ]
  },
  {
   "cell_type": "code",
   "execution_count": 19,
   "metadata": {
    "collapsed": false
   },
   "outputs": [
    {
     "name": "stdout",
     "output_type": "stream",
     "text": [
      "(200,)\n"
     ]
    },
    {
     "data": {
      "text/plain": [
       "<matplotlib.collections.PathCollection at 0x10c763ad0>"
      ]
     },
     "execution_count": 19,
     "metadata": {},
     "output_type": "execute_result"
    },
    {
     "data": {
      "image/png": "[encoded data removed]",
      "text/plain": [
       "<matplotlib.figure.Figure at 0x10f7c3f10>"
      ]
     },
     "metadata": {},
     "output_type": "display_data"
    }
   ],
   "source": [
    "# plot results\n",
    "X_ = xbatch\n",
    "mus = mu.eval(feed_dict={x:xbatch})  #[nb x M]\n",
    "sigmas = sigma.eval(feed_dict={x:xbatch})  #[nb x M]\n",
    "pis = pi.eval(feed_dict={x:xbatch})  #[nb x M]\n",
    "Y_ = sample(mus,sigmas,pis)\n",
    "plt.scatter(X,Y_,color='g')"
   ]
  },
  {
   "cell_type": "markdown",
   "metadata": {},
   "source": [
    "Results are similar to those achieved by Karpathy"
   ]
  },
  {
   "cell_type": "code",
   "execution_count": null,
   "metadata": {
    "collapsed": true
   },
   "outputs": [],
   "source": []
  }
 ],
 "metadata": {
  "kernelspec": {
   "display_name": "Python 2",
   "language": "python",
   "name": "python2"
  },
  "language_info": {
   "codemirror_mode": {
    "name": "ipython",
    "version": 2
   },
   "file_extension": ".py",
   "mimetype": "text/x-python",
   "name": "python",
   "nbconvert_exporter": "python",
   "pygments_lexer": "ipython2",
   "version": "2.7.10"
  }
 },
 "nbformat": 4,
 "nbformat_minor": 0
}
